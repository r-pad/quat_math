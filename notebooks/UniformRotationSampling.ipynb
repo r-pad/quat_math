{
 "cells": [
  {
   "cell_type": "markdown",
   "id": "b47b670a",
   "metadata": {},
   "source": [
    "# Uniform sampling within a rotational bound"
   ]
  },
  {
   "cell_type": "code",
   "execution_count": null,
   "id": "831d3c0a",
   "metadata": {},
   "outputs": [],
   "source": [
    "import numpy as np\n",
    "import matplotlib.pyplot as plt\n",
    "from tqdm.notebook import trange, tqdm\n",
    "from quat_math import (quatAngularDiff, randomQuatNear, random_quaternion, quaternion_about_axis, quaternion_multiply)"
   ]
  },
  {
   "cell_type": "markdown",
   "id": "6ceb38cf",
   "metadata": {},
   "source": [
    "# Sampling Parameters"
   ]
  },
  {
   "cell_type": "code",
   "execution_count": null,
   "id": "c737c4de",
   "metadata": {},
   "outputs": [],
   "source": [
    "# Max angular offset to sample\n",
    "max_angular_offset = np.pi/180*180\n",
    "num_samples = 1000000\n",
    "\n",
    "# Random central angle\n",
    "q0 = random_quaternion()"
   ]
  },
  {
   "cell_type": "markdown",
   "id": "2fe8b716",
   "metadata": {},
   "source": [
    "# Uniform Angle Sampling\n",
    "\n",
    "Sampling axis from a Gaussian and angle uniformly. This will not uniformly sample the rotational space."
   ]
  },
  {
   "cell_type": "code",
   "execution_count": null,
   "id": "13ceb6ab",
   "metadata": {},
   "outputs": [],
   "source": [
    "# Save all angular offsets\n",
    "angular_offsets_uniform = []\n",
    "\n",
    "for _ in trange(num_samples):\n",
    "    axis = np.random.randn(3)\n",
    "    axis = np.random.randn(3)\n",
    "    axis /= np.linalg.norm(axis)\n",
    "    \n",
    "    angle = np.random.rand() * max_angular_offset\n",
    "    \n",
    "    # Uniformly sampled angle quaternion\n",
    "    q_delta = quaternion_about_axis(angle, axis)\n",
    "    \n",
    "    # Rotation central angle by delta quaternion\n",
    "    q1 = quaternion_multiply(q_delta, q0)\n",
    "    # Compute angular offset\n",
    "    ang_diff = quatAngularDiff(q0, q1)\n",
    "\n",
    "    # Check to make sure the offset is within the bounds\n",
    "    if ang_diff <= max_angular_offset:\n",
    "        angular_offsets_uniform.append(ang_diff)\n",
    "    else:\n",
    "        # This should never print\n",
    "        print('Invalid Offset')\n",
    "\n",
    "# Compute histogram of offset magnitudes\n",
    "counts_uniform, bins = np.histogram(angular_offsets_uniform, bins = np.linspace(0, max_angular_offset, 100))\n",
    "\n",
    "# Normalize distribution\n",
    "prob_uniform = counts_uniform / num_samples"
   ]
  },
  {
   "cell_type": "markdown",
   "id": "e940cf5a",
   "metadata": {},
   "source": [
    "# Rejection Sampling\n",
    "\n",
    "Sample the whole rotation space and reject all angles greater than the maximum.\n",
    "This becomes increasingly inefficient as the max angle gets smaller."
   ]
  },
  {
   "cell_type": "code",
   "execution_count": null,
   "id": "8b4bf21f",
   "metadata": {},
   "outputs": [],
   "source": [
    "# Save all angular offsets that are below the max angle\n",
    "angular_offsets_rejection = []\n",
    "\n",
    "with tqdm(total=num_samples) as pbar:\n",
    "    while len(angular_offsets_rejection) < num_samples:\n",
    "        # Randomly sampled quaternion from whole rotation space\n",
    "        q1 = random_quaternion()\n",
    "        \n",
    "        # Compute angular offset\n",
    "        ang_diff = quatAngularDiff(q0, q1)\n",
    "        \n",
    "        # Save if below angular offset threshold\n",
    "        if ang_diff <= max_angular_offset:\n",
    "            angular_offsets_rejection.append(ang_diff)\n",
    "            pbar.update(1)\n",
    "\n",
    "# Compute histogram of offset magnitudes\n",
    "counts_rejection, bins = np.histogram(angular_offsets_rejection, bins = np.linspace(0, max_angular_offset, 100))\n",
    "\n",
    "# Normalize distribution\n",
    "prob_rejection = counts_rejection / num_samples"
   ]
  },
  {
   "cell_type": "markdown",
   "id": "0ba1bb69",
   "metadata": {},
   "source": [
    "# Inverse CDF Sampling\n",
    "\n",
    "Sample the within the rotation space we care about using inverse cdf sampling to avoid oversampling small angles"
   ]
  },
  {
   "cell_type": "code",
   "execution_count": null,
   "id": "b2356561",
   "metadata": {},
   "outputs": [],
   "source": [
    "# Sampled angular offsets\n",
    "angular_offsets_inverse_cdf = []\n",
    "\n",
    "for _ in trange(num_samples):\n",
    "    # Sample only rotations within threshold proportional to their distribution in the full rotational space.\n",
    "    q1,_ = randomQuatNear(q0, max_angular_offset)\n",
    "\n",
    "    # Compute angular offset\n",
    "    ang_diff = quatAngularDiff(q0, q1)\n",
    "    \n",
    "    # Check to make sure the offset is within the bounds\n",
    "    if ang_diff <= max_angular_offset:\n",
    "        angular_offsets_inverse_cdf.append(ang_diff)\n",
    "    else:\n",
    "        # This should never print\n",
    "        print('Invalid Offset')\n",
    "\n",
    "# Compute histogram of offset magnitudes\n",
    "counts_inverse_cdf, _ = np.histogram(angular_offsets_inverse_cdf, bins = np.linspace(0, max_angular_offset, 100))\n",
    "\n",
    "# Normalize distribution\n",
    "prob_inverse_cdf = counts_inverse_cdf / num_samples"
   ]
  },
  {
   "cell_type": "markdown",
   "id": "b27c6680",
   "metadata": {},
   "source": [
    "# Analytical Solution\n",
    "\n",
    "Compute the analytical PDF of each rotation bin. "
   ]
  },
  {
   "cell_type": "code",
   "execution_count": null,
   "id": "56cd3b28",
   "metadata": {},
   "outputs": [],
   "source": [
    "# Analytical pdf\n",
    "def angular_pdf(theta):\n",
    "    return np.pi/2. * np.sin(theta/2.)**2\n",
    "\n",
    "def angular_cdf(theta):\n",
    "    return 1./2. * (theta - np.sin(theta)) / (np.pi / 2.)\n",
    "\n",
    "# Angular bin values for histograms\n",
    "angular_bins = np.linspace(0, max_angular_offset, 100)\n",
    "\n",
    "# PDF of initial bin value\n",
    "pdf_analytical = angular_pdf(angular_bins[:-1])\n",
    "\n",
    "# PDF of bin value as differnce of edge cdfs\n",
    "pdf_analytical_bin = np.diff(angular_cdf(angular_bins))\n",
    "\n",
    "# Normalize \n",
    "prob_analytical = pdf_analytical / pdf_analytical.sum()\n",
    "prob_analytical_bin = pdf_analytical_bin / pdf_analytical_bin.sum()"
   ]
  },
  {
   "cell_type": "markdown",
   "id": "a08aff8f",
   "metadata": {},
   "source": [
    "# Sampling Proportions "
   ]
  },
  {
   "cell_type": "code",
   "execution_count": null,
   "id": "8ef35e62",
   "metadata": {},
   "outputs": [],
   "source": [
    "angular_offset = angular_bins[:-1]\n",
    "plt.plot(angular_offset, prob_rejection, label='Rejection Sampling')\n",
    "plt.plot(angular_offset, prob_inverse_cdf, label='Inverse CDF Sampling')\n",
    "plt.plot(angular_offset, prob_uniform, label='Uniform Angle Sampling')\n",
    "plt.plot(angular_offset, prob_analytical_bin, label='Analytical Solution')\n",
    "\n",
    "plt.title('Angle Constrained Sampling Test')\n",
    "plt.ylabel('Proportion of Samples')\n",
    "plt.xlabel('Angular Offset')\n",
    "plt.legend()\n",
    "plt.show()"
   ]
  }
 ],
 "metadata": {
  "kernelspec": {
   "display_name": "ps_env",
   "language": "python",
   "name": "ps_env"
  },
  "language_info": {
   "codemirror_mode": {
    "name": "ipython",
    "version": 3
   },
   "file_extension": ".py",
   "mimetype": "text/x-python",
   "name": "python",
   "nbconvert_exporter": "python",
   "pygments_lexer": "ipython3",
   "version": "3.10.12"
  }
 },
 "nbformat": 4,
 "nbformat_minor": 5
}
